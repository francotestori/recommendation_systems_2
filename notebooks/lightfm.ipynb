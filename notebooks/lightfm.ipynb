{
 "cells": [
  {
   "cell_type": "code",
   "execution_count": 1,
   "outputs": [
    {
     "name": "stderr",
     "output_type": "stream",
     "text": [
      "/Users/francotestori/dsuba/recommendation_systems_2/.venv/lib/python3.7/site-packages/lightfm/_lightfm_fast.py:10: UserWarning: LightFM was compiled without OpenMP support. Only a single thread will be used.\n",
      "  \"LightFM was compiled without OpenMP support. \"\n"
     ]
    }
   ],
   "source": [
    "import os\n",
    "import pandas as pd\n",
    "import numpy as np\n",
    "import pickle\n",
    "\n",
    "import lightfm as lfm\n",
    "from lightfm import data\n",
    "\n",
    "from tqdm.notebook import tqdm"
   ],
   "metadata": {
    "collapsed": false,
    "pycharm": {
     "name": "#%%\n"
    }
   }
  },
  {
   "cell_type": "code",
   "execution_count": 2,
   "outputs": [],
   "source": [
    "SEEN_PICKLE_PATH = '../resources/seen.pkl'\n",
    "SIMPLE_PREDICTION_PICKLE_PATH = '../resources/simple_prediction.pkl'\n",
    "SIMPLE_PREDICTION_CSV_PATH = '../resources/simple_prediction.csv'\n",
    "LIGHTFM_PREDICTION_PICKLE_PATH = '../resources/lightfm_prediction.pkl'\n",
    "LIGHTFM_PREDICTION_CSV_PATH = '../resources/lightfm_prediction.csv'\n",
    "\n",
    "RANDOM_SEED = 671993\n",
    "\n",
    "N_THREADS = 6\n",
    "N_EPOCHS = 20"
   ],
   "metadata": {
    "collapsed": false,
    "pycharm": {
     "name": "#%%\n"
    }
   }
  },
  {
   "cell_type": "code",
   "execution_count": 3,
   "outputs": [],
   "source": [
    "original_df = pd.read_csv('../resources/train.csv')"
   ],
   "metadata": {
    "collapsed": false,
    "pycharm": {
     "name": "#%%\n"
    }
   }
  },
  {
   "cell_type": "code",
   "execution_count": 4,
   "outputs": [
    {
     "data": {
      "text/plain": "113881"
     },
     "execution_count": 4,
     "metadata": {},
     "output_type": "execute_result"
    }
   ],
   "source": [
    "len(original_df[\"account_id\"].unique())"
   ],
   "metadata": {
    "collapsed": false,
    "pycharm": {
     "name": "#%%\n"
    }
   }
  },
  {
   "cell_type": "code",
   "execution_count": 5,
   "outputs": [],
   "source": [
    "df_train = pd.read_csv(\n",
    "    '../resources/train_full.csv',\n",
    "    parse_dates=[\n",
    "        'tunein',\n",
    "        'tuneout',\n",
    "        'end_vod_date'\n",
    "    ]\n",
    ")\n",
    "# df_train = df_train[~np.isinf(df_train.pct_seen)]"
   ],
   "metadata": {
    "collapsed": false,
    "pycharm": {
     "name": "#%%\n"
    }
   }
  },
  {
   "cell_type": "code",
   "execution_count": 6,
   "outputs": [
    {
     "data": {
      "text/plain": "113879"
     },
     "execution_count": 6,
     "metadata": {},
     "output_type": "execute_result"
    }
   ],
   "source": [
    "len(df_train[\"account_id\"].unique())"
   ],
   "metadata": {
    "collapsed": false,
    "pycharm": {
     "name": "#%%\n"
    }
   }
  },
  {
   "cell_type": "code",
   "execution_count": 7,
   "outputs": [
    {
     "data": {
      "text/plain": "2"
     },
     "execution_count": 7,
     "metadata": {},
     "output_type": "execute_result"
    }
   ],
   "source": [
    "missing_acc = set(original_df[\"account_id\"].unique()) - set(df_train[\"account_id\"].unique())\n",
    "len(missing_acc)"
   ],
   "metadata": {
    "collapsed": false,
    "pycharm": {
     "name": "#%%\n"
    }
   }
  },
  {
   "cell_type": "code",
   "execution_count": 12,
   "outputs": [
    {
     "data": {
      "text/plain": "937"
     },
     "execution_count": 12,
     "metadata": {},
     "output_type": "execute_result"
    }
   ],
   "source": [
    "available_contents = df_train[df_train['end_vod_date'] > '2021-12-31 23:59:59+00:00']['content_id'].unique()\n",
    "len(available_contents)"
   ],
   "metadata": {
    "collapsed": false,
    "pycharm": {
     "name": "#%%\n"
    }
   }
  },
  {
   "cell_type": "markdown",
   "source": [
    "### Seen by account\n",
    "We process which contents have been seen by all the different accounts and store it on a dict."
   ],
   "metadata": {
    "collapsed": false,
    "pycharm": {
     "name": "#%% md\n"
    }
   }
  },
  {
   "cell_type": "code",
   "execution_count": 13,
   "outputs": [],
   "source": [
    "if os.path.exists(SEEN_PICKLE_PATH):\n",
    "    seen = pickle.load(open(SEEN_PICKLE_PATH, 'rb'))\n",
    "else:\n",
    "    seen = {}\n",
    "    for account_id in tqdm(range(113880+1)):\n",
    "        seen[account_id] = df_train\\\n",
    "            .loc[df_train[\"account_id\"] == account_id, \"content_id\"]\\\n",
    "            .tolist()\n",
    "\n",
    "    pickle.dump(seen, open(SEEN_PICKLE_PATH, 'wb'))"
   ],
   "metadata": {
    "collapsed": false,
    "pycharm": {
     "name": "#%%\n"
    }
   }
  },
  {
   "cell_type": "markdown",
   "source": [
    "# Simple Prediction"
   ],
   "metadata": {
    "collapsed": false
   }
  },
  {
   "cell_type": "code",
   "execution_count": 14,
   "outputs": [],
   "source": [
    "gb = df_train.groupby(\"account_id\", as_index=False).size()\n",
    "gb2 = df_train.groupby(\"content_id\", as_index=False).size()"
   ],
   "metadata": {
    "collapsed": false,
    "pycharm": {
     "name": "#%%\n"
    }
   }
  },
  {
   "cell_type": "code",
   "execution_count": 16,
   "outputs": [
    {
     "data": {
      "text/plain": "  0%|          | 0/113881 [00:00<?, ?it/s]",
      "application/vnd.jupyter.widget-view+json": {
       "version_major": 2,
       "version_minor": 0,
       "model_id": "6314d7f0ae5445528cce4c5fd33b70d0"
      }
     },
     "metadata": {},
     "output_type": "display_data"
    }
   ],
   "source": [
    "simple_prediction = {}\n",
    "for account_id in tqdm(seen.keys()):\n",
    "    simple_prediction[account_id] = gb.index[:200].values\n",
    "    simple_prediction[account_id] = [t for t in simple_prediction[account_id] if t not in seen[account_id] and t in available_contents]\n",
    "    simple_prediction[account_id] = simple_prediction[account_id][:20]\n",
    "\n",
    "    assert len(simple_prediction[account_id]) == 20"
   ],
   "metadata": {
    "collapsed": false,
    "pycharm": {
     "name": "#%%\n"
    }
   }
  },
  {
   "cell_type": "code",
   "execution_count": 17,
   "outputs": [
    {
     "data": {
      "text/plain": "  0%|          | 0/113881 [00:00<?, ?it/s]",
      "application/vnd.jupyter.widget-view+json": {
       "version_major": 2,
       "version_minor": 0,
       "model_id": "0cccfbd4f6394b48b6a36de4734069b3"
      }
     },
     "metadata": {},
     "output_type": "display_data"
    }
   ],
   "source": [
    "pickle.dump(simple_prediction, open(SIMPLE_PREDICTION_PICKLE_PATH, 'wb'))\n",
    "\n",
    "with open(SIMPLE_PREDICTION_CSV_PATH, \"wt\") as f:\n",
    "    _ = f.write(\"account_id,content_ids\\n\")\n",
    "\n",
    "    for account_id in tqdm(simple_prediction.keys()):\n",
    "        _ = f.write(f\"{account_id},{' '.join(map(str, simple_prediction[account_id]))}\\n\")"
   ],
   "metadata": {
    "collapsed": false,
    "pycharm": {
     "name": "#%%\n"
    }
   }
  },
  {
   "cell_type": "code",
   "execution_count": 18,
   "outputs": [
    {
     "data": {
      "text/plain": "   customer_id  account_id   device_type  asset_id              tunein  \\\n0        94636           0           STB     15900 2021-01-18 15:21:00   \n1        94636           0           STB     13056 2021-01-13 00:12:00   \n2        94636           0           STB     29811 2021-01-12 21:13:00   \n3        94636           0           STB     29897 2021-01-17 01:45:00   \n4        94636           0  CLOUD_CLIENT      6397 2021-02-25 21:05:00   \n\n              tuneout  resume  content_id  run_time_min  \\\n0 2021-01-18 17:29:00       0      1503.0         128.0   \n1 2021-01-13 01:17:00       1      2866.0          86.0   \n2 2021-01-12 22:32:00       0      3438.0          79.0   \n3 2021-01-17 02:01:00       1      3498.0          96.0   \n4 2021-02-25 21:53:00       0      3845.0          43.0   \n\n               end_vod_date  view_time_min  \n0 2021-03-05 23:59:59+00:00          128.0  \n1 2021-12-31 23:59:59+00:00           65.0  \n2 2021-05-11 23:59:00+00:00           79.0  \n3 2023-10-01 23:59:59+00:00           16.0  \n4 2021-06-01 23:59:00+00:00           48.0  ",
      "text/html": "<div>\n<style scoped>\n    .dataframe tbody tr th:only-of-type {\n        vertical-align: middle;\n    }\n\n    .dataframe tbody tr th {\n        vertical-align: top;\n    }\n\n    .dataframe thead th {\n        text-align: right;\n    }\n</style>\n<table border=\"1\" class=\"dataframe\">\n  <thead>\n    <tr style=\"text-align: right;\">\n      <th></th>\n      <th>customer_id</th>\n      <th>account_id</th>\n      <th>device_type</th>\n      <th>asset_id</th>\n      <th>tunein</th>\n      <th>tuneout</th>\n      <th>resume</th>\n      <th>content_id</th>\n      <th>run_time_min</th>\n      <th>end_vod_date</th>\n      <th>view_time_min</th>\n    </tr>\n  </thead>\n  <tbody>\n    <tr>\n      <th>0</th>\n      <td>94636</td>\n      <td>0</td>\n      <td>STB</td>\n      <td>15900</td>\n      <td>2021-01-18 15:21:00</td>\n      <td>2021-01-18 17:29:00</td>\n      <td>0</td>\n      <td>1503.0</td>\n      <td>128.0</td>\n      <td>2021-03-05 23:59:59+00:00</td>\n      <td>128.0</td>\n    </tr>\n    <tr>\n      <th>1</th>\n      <td>94636</td>\n      <td>0</td>\n      <td>STB</td>\n      <td>13056</td>\n      <td>2021-01-13 00:12:00</td>\n      <td>2021-01-13 01:17:00</td>\n      <td>1</td>\n      <td>2866.0</td>\n      <td>86.0</td>\n      <td>2021-12-31 23:59:59+00:00</td>\n      <td>65.0</td>\n    </tr>\n    <tr>\n      <th>2</th>\n      <td>94636</td>\n      <td>0</td>\n      <td>STB</td>\n      <td>29811</td>\n      <td>2021-01-12 21:13:00</td>\n      <td>2021-01-12 22:32:00</td>\n      <td>0</td>\n      <td>3438.0</td>\n      <td>79.0</td>\n      <td>2021-05-11 23:59:00+00:00</td>\n      <td>79.0</td>\n    </tr>\n    <tr>\n      <th>3</th>\n      <td>94636</td>\n      <td>0</td>\n      <td>STB</td>\n      <td>29897</td>\n      <td>2021-01-17 01:45:00</td>\n      <td>2021-01-17 02:01:00</td>\n      <td>1</td>\n      <td>3498.0</td>\n      <td>96.0</td>\n      <td>2023-10-01 23:59:59+00:00</td>\n      <td>16.0</td>\n    </tr>\n    <tr>\n      <th>4</th>\n      <td>94636</td>\n      <td>0</td>\n      <td>CLOUD_CLIENT</td>\n      <td>6397</td>\n      <td>2021-02-25 21:05:00</td>\n      <td>2021-02-25 21:53:00</td>\n      <td>0</td>\n      <td>3845.0</td>\n      <td>43.0</td>\n      <td>2021-06-01 23:59:00+00:00</td>\n      <td>48.0</td>\n    </tr>\n  </tbody>\n</table>\n</div>"
     },
     "execution_count": 18,
     "metadata": {},
     "output_type": "execute_result"
    }
   ],
   "source": [
    "df_train.head(5)"
   ],
   "metadata": {
    "collapsed": false,
    "pycharm": {
     "name": "#%%\n"
    }
   }
  },
  {
   "cell_type": "markdown",
   "source": [
    "## Dataset Filtering Preparation"
   ],
   "metadata": {
    "collapsed": false,
    "pycharm": {
     "name": "#%% md\n"
    }
   }
  },
  {
   "cell_type": "code",
   "execution_count": 19,
   "outputs": [
    {
     "data": {
      "text/plain": "(3657779, 11)"
     },
     "execution_count": 19,
     "metadata": {},
     "output_type": "execute_result"
    }
   ],
   "source": [
    "df_train.shape"
   ],
   "metadata": {
    "collapsed": false,
    "pycharm": {
     "name": "#%%\n"
    }
   }
  },
  {
   "cell_type": "code",
   "execution_count": 20,
   "outputs": [],
   "source": [
    "# # accounts which have seen at least N contents\n",
    "# min_views_acc_cap = gb.loc[gb[\"size\"] >= 5, \"account_id\"].unique()\n",
    "#\n",
    "# df_train = df_train[df_train[\"account_id\"].isin(min_views_acc_cap)]\n",
    "# df_train.shape"
   ],
   "metadata": {
    "collapsed": false,
    "pycharm": {
     "name": "#%%\n"
    }
   }
  },
  {
   "cell_type": "code",
   "execution_count": 21,
   "outputs": [],
   "source": [
    "# # contents viewed at least by N accounts\n",
    "# min_views_content_cap = gb2.loc[gb2[\"size\"] >= 10, \"content_id\"].unique()\n",
    "#\n",
    "# df_train = df_train[df_train[\"content_id\"].isin(min_views_content_cap)]\n",
    "# df_train.shape"
   ],
   "metadata": {
    "collapsed": false,
    "pycharm": {
     "name": "#%%\n"
    }
   }
  },
  {
   "cell_type": "code",
   "execution_count": 22,
   "outputs": [],
   "source": [
    "# # Filter contents which have been seen more than 20%\n",
    "# df_train = df_train[df_train.pct_seen > 0.10]\n",
    "#\n",
    "# df_train.shape\n"
   ],
   "metadata": {
    "collapsed": false,
    "pycharm": {
     "name": "#%%\n"
    }
   }
  },
  {
   "cell_type": "markdown",
   "source": [
    "# LightFM (Collaborative Filtering)"
   ],
   "metadata": {
    "collapsed": false
   }
  },
  {
   "cell_type": "markdown",
   "source": [
    "## Training\n",
    "We will use lightfm to traing our model."
   ],
   "metadata": {
    "collapsed": false,
    "pycharm": {
     "name": "#%% md\n"
    }
   }
  },
  {
   "cell_type": "code",
   "execution_count": 23,
   "outputs": [
    {
     "data": {
      "text/plain": "(3657779, 2)"
     },
     "execution_count": 23,
     "metadata": {},
     "output_type": "execute_result"
    }
   ],
   "source": [
    "df_train = df_train[['account_id', 'content_id']]\n",
    "df_train.shape"
   ],
   "metadata": {
    "collapsed": false,
    "pycharm": {
     "name": "#%%\n"
    }
   }
  },
  {
   "cell_type": "code",
   "execution_count": 24,
   "outputs": [
    {
     "data": {
      "text/plain": "(971564, 2)"
     },
     "execution_count": 24,
     "metadata": {},
     "output_type": "execute_result"
    }
   ],
   "source": [
    "df_train = df_train.drop_duplicates()\n",
    "df_train.shape"
   ],
   "metadata": {
    "collapsed": false,
    "pycharm": {
     "name": "#%%\n"
    }
   }
  },
  {
   "cell_type": "code",
   "execution_count": 28,
   "outputs": [
    {
     "data": {
      "text/plain": "(971470, 2)"
     },
     "execution_count": 28,
     "metadata": {},
     "output_type": "execute_result"
    }
   ],
   "source": [
    "df_train = df_train.dropna()\n",
    "df_train.shape\n"
   ],
   "metadata": {
    "collapsed": false,
    "pycharm": {
     "name": "#%%\n"
    }
   }
  },
  {
   "cell_type": "code",
   "execution_count": 29,
   "outputs": [
    {
     "data": {
      "text/plain": "6"
     },
     "execution_count": 29,
     "metadata": {},
     "output_type": "execute_result"
    }
   ],
   "source": [
    "missing_acc = set(original_df[\"account_id\"].unique()) - set(df_train[\"account_id\"].unique())\n",
    "len(missing_acc)"
   ],
   "metadata": {
    "collapsed": false,
    "pycharm": {
     "name": "#%%\n"
    }
   }
  },
  {
   "cell_type": "code",
   "execution_count": 30,
   "outputs": [
    {
     "data": {
      "text/plain": "(113875, 4064)"
     },
     "execution_count": 30,
     "metadata": {},
     "output_type": "execute_result"
    }
   ],
   "source": [
    "ds = data.Dataset()\n",
    "ds.fit(\n",
    "    users=df_train[\"account_id\"].unique(),\n",
    "    items=df_train[\"content_id\"].unique()\n",
    ")\n",
    "ds.interactions_shape()"
   ],
   "metadata": {
    "collapsed": false,
    "pycharm": {
     "name": "#%%\n"
    }
   }
  },
  {
   "cell_type": "code",
   "execution_count": 31,
   "outputs": [
    {
     "data": {
      "text/plain": "<113875x4064 sparse matrix of type '<class 'numpy.int32'>'\n\twith 971470 stored elements in COOrdinate format>"
     },
     "execution_count": 31,
     "metadata": {},
     "output_type": "execute_result"
    }
   ],
   "source": [
    "(interactions, weights) = ds.build_interactions(\n",
    "    df_train[['account_id', 'content_id']].itertuples(index=False)\n",
    ")\n",
    "del weights\n",
    "interactions"
   ],
   "metadata": {
    "collapsed": false,
    "pycharm": {
     "name": "#%%\n"
    }
   }
  },
  {
   "cell_type": "code",
   "execution_count": 32,
   "outputs": [
    {
     "data": {
      "text/plain": "<lightfm.lightfm.LightFM at 0x157ab67d0>"
     },
     "execution_count": 32,
     "metadata": {},
     "output_type": "execute_result"
    }
   ],
   "source": [
    "model = lfm.LightFM(\n",
    "    learning_rate=0.05,\n",
    "    loss='warp',\n",
    "    no_components=20,\n",
    "    random_state=RANDOM_SEED\n",
    ")\n",
    "\n",
    "model.fit(\n",
    "    interactions,\n",
    "    epochs=N_EPOCHS,\n",
    "    num_threads=N_THREADS\n",
    ")"
   ],
   "metadata": {
    "collapsed": false,
    "pycharm": {
     "name": "#%%\n"
    }
   }
  },
  {
   "cell_type": "markdown",
   "source": [
    "## Prediction"
   ],
   "metadata": {
    "collapsed": false,
    "pycharm": {
     "name": "#%% md\n"
    }
   }
  },
  {
   "cell_type": "code",
   "execution_count": 33,
   "outputs": [],
   "source": [
    "user_id_mapping, user_feature_mapping, item_id_mapping, item_feature_mapping = ds.mapping()\n",
    "# item_id_mapping"
   ],
   "metadata": {
    "collapsed": false,
    "pycharm": {
     "name": "#%%\n"
    }
   }
  },
  {
   "cell_type": "code",
   "execution_count": 34,
   "outputs": [
    {
     "data": {
      "text/plain": "array([-3.5945892, -1.30806  ], dtype=float32)"
     },
     "execution_count": 34,
     "metadata": {},
     "output_type": "execute_result"
    }
   ],
   "source": [
    "# # Prediction Test\n",
    "model.predict(\n",
    "    np.array([user_id_mapping[2761], user_id_mapping[2834]], dtype=np.int32),\n",
    "    np.array([item_id_mapping[2645], item_id_mapping[2220]], dtype=np.int32),\n",
    "    num_threads=N_THREADS\n",
    ")"
   ],
   "metadata": {
    "collapsed": false,
    "pycharm": {
     "name": "#%%\n"
    }
   }
  },
  {
   "cell_type": "code",
   "execution_count": 35,
   "outputs": [
    {
     "data": {
      "text/plain": "113875"
     },
     "execution_count": 35,
     "metadata": {},
     "output_type": "execute_result"
    }
   ],
   "source": [
    "len(df_train[\"account_id\"].unique())"
   ],
   "metadata": {
    "collapsed": false,
    "pycharm": {
     "name": "#%%\n"
    }
   }
  },
  {
   "cell_type": "code",
   "execution_count": 36,
   "outputs": [
    {
     "data": {
      "text/plain": "  0%|          | 0/113881 [00:00<?, ?it/s]",
      "application/vnd.jupyter.widget-view+json": {
       "version_major": 2,
       "version_minor": 0,
       "model_id": "195eaa3059304d489e5daf9347142ecb"
      }
     },
     "metadata": {},
     "output_type": "display_data"
    }
   ],
   "source": [
    "# TODO ver por que tenemos menos records\n",
    "# (hipotesis es que en algun momento filtramos account_ids)\n",
    "all_contents = df_train[\"content_id\"].unique()\n",
    "\n",
    "lightfm_prediction = {}\n",
    "\n",
    "for account_id in tqdm(seen.keys()):\n",
    "    not_seen = [t for t in all_contents if t not in seen[account_id]]\n",
    "\n",
    "    if account_id in missing_acc:\n",
    "        lightfm_prediction[account_id] = simple_prediction[account_id]\n",
    "    else:\n",
    "        pred = model.predict(\n",
    "            user_id_mapping[account_id],\n",
    "            np.array([item_id_mapping[t] for t in not_seen]),\n",
    "            num_threads=N_THREADS\n",
    "        )\n",
    "\n",
    "        # Join lists ordered by prediction\n",
    "        lightfm_prediction[account_id] = [t[1] for t in sorted(zip(pred, not_seen), reverse=True)[:200]]\n",
    "\n",
    "        # Filtramos por contenidos que sigan disponibles despues del 31-12\n",
    "        lightfm_prediction[account_id] = [t for t in lightfm_prediction[account_id] if t in available_contents]\n",
    "\n",
    "        lightfm_prediction[account_id] = list(set(lightfm_prediction[account_id]))\n",
    "\n",
    "        if len(lightfm_prediction[account_id]) < 20:\n",
    "            # no_personalizado --> perfiles\n",
    "            lightfm_prediction[account_id] = list(set(lightfm_prediction[account_id] + [p for p in simple_prediction[account_id] if p not in lightfm_prediction[account_id]]))\n",
    "\n",
    "        if len(lightfm_prediction[account_id]) > 20:\n",
    "            lightfm_prediction[account_id] = lightfm_prediction[account_id][:20]\n",
    "\n",
    "    assert len(set(lightfm_prediction[account_id])) == 20"
   ],
   "metadata": {
    "collapsed": false,
    "pycharm": {
     "name": "#%%\n"
    }
   }
  },
  {
   "cell_type": "code",
   "execution_count": 44,
   "outputs": [
    {
     "data": {
      "text/plain": "{6,\n 136,\n 289,\n 387,\n 392,\n 524,\n 527,\n 658,\n 1176,\n 1573,\n 2186,\n 2202,\n 2314,\n 2827,\n 2972,\n 3091,\n 3353,\n 3712,\n 3726,\n 3727}"
     },
     "execution_count": 44,
     "metadata": {},
     "output_type": "execute_result"
    }
   ],
   "source": [
    "example = set(map(lambda x: x.astype(int), lightfm_prediction[1]))\n",
    "example"
   ],
   "metadata": {
    "collapsed": false,
    "pycharm": {
     "name": "#%%\n"
    }
   }
  },
  {
   "cell_type": "code",
   "execution_count": 45,
   "outputs": [
    {
     "data": {
      "text/plain": "  0%|          | 0/113881 [00:00<?, ?it/s]",
      "application/vnd.jupyter.widget-view+json": {
       "version_major": 2,
       "version_minor": 0,
       "model_id": "90547afc8ea245a0b3381080e8c59690"
      }
     },
     "metadata": {},
     "output_type": "display_data"
    }
   ],
   "source": [
    "pickle.dump(lightfm_prediction, open(LIGHTFM_PREDICTION_PICKLE_PATH, 'wb'))\n",
    "\n",
    "with open(LIGHTFM_PREDICTION_CSV_PATH, \"wt\") as f:\n",
    "    _ = f.write(\"account_id,content_ids\\n\")\n",
    "\n",
    "    for account_id in tqdm(lightfm_prediction.keys()):\n",
    "        contents = set(map(lambda x: x.astype(int), lightfm_prediction[account_id]))\n",
    "        _ = f.write(f\"{account_id},{' '.join(map(str, contents))}\\n\")\n",
    "\n",
    "\n"
   ],
   "metadata": {
    "collapsed": false,
    "pycharm": {
     "name": "#%%\n"
    }
   }
  }
 ],
 "metadata": {
  "kernelspec": {
   "display_name": "Python 3",
   "language": "python",
   "name": "python3"
  },
  "language_info": {
   "codemirror_mode": {
    "name": "ipython",
    "version": 2
   },
   "file_extension": ".py",
   "mimetype": "text/x-python",
   "name": "python",
   "nbconvert_exporter": "python",
   "pygments_lexer": "ipython2",
   "version": "2.7.6"
  }
 },
 "nbformat": 4,
 "nbformat_minor": 0
}