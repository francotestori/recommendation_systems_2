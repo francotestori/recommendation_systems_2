{
 "cells": [
  {
   "cell_type": "code",
   "execution_count": 1,
   "outputs": [],
   "source": [
    "import pandas    as pd\n",
    "import numpy as np"
   ],
   "metadata": {
    "collapsed": false,
    "pycharm": {
     "name": "#%%\n"
    }
   }
  },
  {
   "cell_type": "markdown",
   "source": [
    "Completamos los datos de train con la data de **content_id** que obtenemos de la metadata."
   ],
   "metadata": {
    "collapsed": false,
    "pycharm": {
     "name": "#%% md\n"
    }
   }
  },
  {
   "cell_type": "code",
   "execution_count": 2,
   "outputs": [],
   "source": [
    "df_train = pd.read_csv(\n",
    "    '../resources/train.csv',\n",
    "    parse_dates=[\n",
    "        'tunein',\n",
    "        'tuneout'\n",
    "    ]\n",
    ")\n",
    "df_train = df_train[~df_train.asset_id.isna()]\n",
    "df_train.asset_id = df_train.asset_id.astype(pd.Int64Dtype())"
   ],
   "metadata": {
    "collapsed": false,
    "pycharm": {
     "name": "#%%\n"
    }
   }
  },
  {
   "cell_type": "code",
   "execution_count": 3,
   "outputs": [],
   "source": [
    "df_metadata = pd.read_csv(\n",
    "    '../resources/metadata.csv',\n",
    "    delimiter=';',\n",
    "    parse_dates=[\n",
    "        'create_date',\n",
    "        'modify_date',\n",
    "        'start_vod_date',\n",
    "        'end_vod_date'\n",
    "    ]\n",
    ")\n",
    "df_metadata.content_id = df_metadata.content_id.astype(pd.Int64Dtype())"
   ],
   "metadata": {
    "collapsed": false,
    "pycharm": {
     "name": "#%%\n"
    }
   }
  },
  {
   "cell_type": "code",
   "execution_count": 4,
   "outputs": [],
   "source": [
    "df_train_full = pd.merge(\n",
    "    df_train,\n",
    "    df_metadata[['asset_id','content_id','run_time_min', 'end_vod_date']],\n",
    "    on='asset_id',\n",
    "    how='left'\n",
    ")"
   ],
   "metadata": {
    "collapsed": false,
    "pycharm": {
     "name": "#%%\n"
    }
   }
  },
  {
   "cell_type": "code",
   "execution_count": 5,
   "outputs": [],
   "source": [
    "df_train_full.sort_values(\n",
    "    ['account_id', 'customer_id', 'content_id', 'asset_id', 'tunein', 'resume'],\n",
    "    inplace=True\n",
    ")"
   ],
   "metadata": {
    "collapsed": false,
    "pycharm": {
     "name": "#%%\n"
    }
   }
  },
  {
   "cell_type": "code",
   "execution_count": 6,
   "outputs": [
    {
     "data": {
      "text/plain": "         customer_id  account_id device_type  asset_id              tunein  \\\n3164569        94636           0         STB     15900 2021-01-18 15:21:00   \n3164567        94636           0         STB     13056 2021-01-13 00:12:00   \n3164566        94636           0         STB     29811 2021-01-12 21:13:00   \n\n                    tuneout  resume  content_id  run_time_min  \\\n3164569 2021-01-18 17:29:00       0        1503         128.0   \n3164567 2021-01-13 01:17:00       1        2866          86.0   \n3164566 2021-01-12 22:32:00       0        3438          79.0   \n\n                     end_vod_date  view_time_min  \n3164569 2021-03-05 23:59:59+00:00          128.0  \n3164567 2021-12-31 23:59:59+00:00           65.0  \n3164566 2021-05-11 23:59:00+00:00           79.0  ",
      "text/html": "<div>\n<style scoped>\n    .dataframe tbody tr th:only-of-type {\n        vertical-align: middle;\n    }\n\n    .dataframe tbody tr th {\n        vertical-align: top;\n    }\n\n    .dataframe thead th {\n        text-align: right;\n    }\n</style>\n<table border=\"1\" class=\"dataframe\">\n  <thead>\n    <tr style=\"text-align: right;\">\n      <th></th>\n      <th>customer_id</th>\n      <th>account_id</th>\n      <th>device_type</th>\n      <th>asset_id</th>\n      <th>tunein</th>\n      <th>tuneout</th>\n      <th>resume</th>\n      <th>content_id</th>\n      <th>run_time_min</th>\n      <th>end_vod_date</th>\n      <th>view_time_min</th>\n    </tr>\n  </thead>\n  <tbody>\n    <tr>\n      <th>3164569</th>\n      <td>94636</td>\n      <td>0</td>\n      <td>STB</td>\n      <td>15900</td>\n      <td>2021-01-18 15:21:00</td>\n      <td>2021-01-18 17:29:00</td>\n      <td>0</td>\n      <td>1503</td>\n      <td>128.0</td>\n      <td>2021-03-05 23:59:59+00:00</td>\n      <td>128.0</td>\n    </tr>\n    <tr>\n      <th>3164567</th>\n      <td>94636</td>\n      <td>0</td>\n      <td>STB</td>\n      <td>13056</td>\n      <td>2021-01-13 00:12:00</td>\n      <td>2021-01-13 01:17:00</td>\n      <td>1</td>\n      <td>2866</td>\n      <td>86.0</td>\n      <td>2021-12-31 23:59:59+00:00</td>\n      <td>65.0</td>\n    </tr>\n    <tr>\n      <th>3164566</th>\n      <td>94636</td>\n      <td>0</td>\n      <td>STB</td>\n      <td>29811</td>\n      <td>2021-01-12 21:13:00</td>\n      <td>2021-01-12 22:32:00</td>\n      <td>0</td>\n      <td>3438</td>\n      <td>79.0</td>\n      <td>2021-05-11 23:59:00+00:00</td>\n      <td>79.0</td>\n    </tr>\n  </tbody>\n</table>\n</div>"
     },
     "execution_count": 6,
     "metadata": {},
     "output_type": "execute_result"
    }
   ],
   "source": [
    "df_train_full['view_time_min'] = (df_train_full.tuneout - df_train_full.tunein).astype('timedelta64[m]')\n",
    "df_train_full.head(3)"
   ],
   "metadata": {
    "collapsed": false,
    "pycharm": {
     "name": "#%%\n"
    }
   }
  },
  {
   "cell_type": "markdown",
   "source": [
    "Generamos metadata para profiling util agrupada por:\n",
    "- **customer_id**\n",
    "- **account_id**\n",
    "- **content_id**\n",
    "- **asset_id**"
   ],
   "metadata": {
    "collapsed": false,
    "pycharm": {
     "name": "#%% md\n"
    }
   }
  },
  {
   "cell_type": "code",
   "execution_count": 7,
   "outputs": [
    {
     "data": {
      "text/plain": "(3657779, 11)"
     },
     "execution_count": 7,
     "metadata": {},
     "output_type": "execute_result"
    }
   ],
   "source": [
    "df_train_full.shape"
   ],
   "metadata": {
    "collapsed": false,
    "pycharm": {
     "name": "#%%\n"
    }
   }
  },
  {
   "cell_type": "code",
   "execution_count": 8,
   "outputs": [],
   "source": [
    "gb = df_train_full.groupby(\n",
    "    by=[\n",
    "        'account_id',\n",
    "        'customer_id',\n",
    "        'content_id',\n",
    "        'asset_id'\n",
    "    ]\n",
    ").agg({\n",
    "    'tunein': 'min',\n",
    "    'tuneout': 'max',\n",
    "    'end_vod_date': 'max',\n",
    "    'view_time_min': 'sum',\n",
    "    'run_time_min': 'sum',\n",
    "    'resume': 'sum',\n",
    "    'asset_id': 'count'\n",
    "})\n",
    "\n",
    "gb.rename(columns={'asset_id': 'count'}, inplace=True)\n",
    "\n",
    "gb['times_seen'] = (gb.view_time_min // gb.run_time_min)\n",
    "gb.times_seen = gb.times_seen.apply(lambda x: 0.0 if np.isinf(x) else x)\n",
    "gb.times_seen = gb.times_seen.astype('int64')\n",
    "\n",
    "gb['pct_seen'] = (gb.view_time_min / gb.run_time_min).astype(float)\n",
    "gb.reset_index(inplace=True)"
   ],
   "metadata": {
    "collapsed": false,
    "pycharm": {
     "name": "#%%\n"
    }
   }
  },
  {
   "cell_type": "code",
   "execution_count": 9,
   "outputs": [],
   "source": [
    "# Almacenamos el nuevo archivo de entrenamiento\n",
    "df_train_full.to_csv(\n",
    "    '../resources/train_full.csv',\n",
    "    index=False\n",
    ")"
   ],
   "metadata": {
    "collapsed": false,
    "pycharm": {
     "name": "#%%\n"
    }
   }
  },
  {
   "cell_type": "code",
   "execution_count": 10,
   "outputs": [],
   "source": [
    "gb.to_csv(\n",
    "    '../resources/train_full_v2.csv',\n",
    "    index=False\n",
    ")\n",
    "\n",
    "\n",
    "\n"
   ],
   "metadata": {
    "collapsed": false,
    "pycharm": {
     "name": "#%%\n"
    }
   }
  }
 ],
 "metadata": {
  "kernelspec": {
   "display_name": "Python 3",
   "language": "python",
   "name": "python3"
  },
  "language_info": {
   "codemirror_mode": {
    "name": "ipython",
    "version": 2
   },
   "file_extension": ".py",
   "mimetype": "text/x-python",
   "name": "python",
   "nbconvert_exporter": "python",
   "pygments_lexer": "ipython2",
   "version": "2.7.6"
  }
 },
 "nbformat": 4,
 "nbformat_minor": 0
}